{
 "cells": [
  {
   "cell_type": "markdown",
   "metadata": {},
   "source": [
    "# Challengue LATAM"
   ]
  },
  {
   "cell_type": "markdown",
   "metadata": {},
   "source": [
    "*Importante*: Ejecute la siguiente celda para instalar las dependencias necesarias.\n",
    "\n"
   ]
  },
  {
   "cell_type": "code",
   "execution_count": 1,
   "metadata": {},
   "outputs": [
    {
     "name": "stdout",
     "output_type": "stream",
     "text": [
      "Requirement already satisfied: emoji in c:\\users\\gt\\appdata\\local\\programs\\python\\python312\\lib\\site-packages (2.12.1)\n",
      "Requirement already satisfied: typing-extensions>=4.7.0 in c:\\users\\gt\\appdata\\local\\programs\\python\\python312\\lib\\site-packages (from emoji) (4.12.2)\n",
      "Note: you may need to restart the kernel to use updated packages.\n"
     ]
    },
    {
     "name": "stderr",
     "output_type": "stream",
     "text": [
      "\n",
      "[notice] A new release of pip is available: 24.0 -> 24.1.2\n",
      "[notice] To update, run: python.exe -m pip install --upgrade pip\n"
     ]
    }
   ],
   "source": [
    "pip install emoji"
   ]
  },
  {
   "cell_type": "markdown",
   "metadata": {},
   "source": [
    "Ejecutar el siguiente bloque de código, que es necesario para el funcionamiento de todos los métodos posteriores."
   ]
  },
  {
   "cell_type": "code",
   "execution_count": 9,
   "metadata": {},
   "outputs": [],
   "source": [
    "from time import time\n",
    "from zipfile import ZipFile\n",
    "import os\n",
    "\n",
    "file_path = \"farmers-protest-tweets-2021-2-4.json\"\n",
    "\n",
    "if not os.path.exists(file_path):\n",
    "    with ZipFile(\"../tweets/tweets.json.zip\", 'r') as zObject: \n",
    "        zObject.extractall('.') "
   ]
  },
  {
   "cell_type": "markdown",
   "metadata": {},
   "source": [
    "### Problema 1: Top 10 fechas con mayor cantidad de tweets por usuario\n",
    "### 1. Optimización de tiempo de ejecución\n",
    "En este apartado para la optimización de tiempo de ejecución se va cargar todos los datos de fechas y usernames en una sola operación, esto simplifica el análisis y mejora el rendimiento general del proceso\n",
    "\n",
    "Optimización Adicional:\n",
    "Se observa que el tiempo de ejecución demora más que el realizado para optimización de memoria, se podría explorar la división del conjunto de datos en secciones más pequeñas y la implementación de técnicas de threading para procesamiento paralelo."
   ]
  },
  {
   "cell_type": "code",
   "execution_count": 21,
   "metadata": {},
   "outputs": [
    {
     "name": "stdout",
     "output_type": "stream",
     "text": [
      "Tiempo de Ejecucion: 7.991407155990601 \n",
      "Resultados Obtenidos: \n",
      "[(datetime.date(2021, 2, 12), 'RanbirS00614606'), (datetime.date(2021, 2, 13), 'MaanDee08215437'), (datetime.date(2021, 2, 17), 'RaaJVinderkaur'), (datetime.date(2021, 2, 16), 'jot__b'), (datetime.date(2021, 2, 14), 'rebelpacifist'), (datetime.date(2021, 2, 18), 'neetuanjle_nitu'), (datetime.date(2021, 2, 15), 'jot__b'), (datetime.date(2021, 2, 20), 'MangalJ23056160'), (datetime.date(2021, 2, 23), 'Surrypuria'), (datetime.date(2021, 2, 19), 'Preetm91')]\n"
     ]
    }
   ],
   "source": [
    "from q1_time import q1_time\n",
    "\n",
    "start_time = time()\n",
    "result = q1_time(file_path=file_path)\n",
    "print(f\"Tiempo de Ejecucion: {time() - start_time} \")\n",
    "print(\"Resultados Obtenidos: \")\n",
    "print(result)"
   ]
  },
  {
   "cell_type": "markdown",
   "metadata": {},
   "source": [
    "### 2. Optimización de memoria en uso\n",
    "\n",
    "Para este apartado, se optó por procesar el archivo de forma secuencial, analizando cada línea individualmente. Esta estrategia reduce significativamente el consumo de memoria en comparación con el primer apartado. Además resulta ser más eficiente en términos de tiempo de ejecución."
   ]
  },
  {
   "cell_type": "code",
   "execution_count": 22,
   "metadata": {},
   "outputs": [
    {
     "name": "stdout",
     "output_type": "stream",
     "text": [
      "Tiempo de Ejecucion: 5.05846643447876 \n",
      "Resultados Obtenidos: \n",
      "[(datetime.date(2021, 2, 12), 'RanbirS00614606'), (datetime.date(2021, 2, 13), 'MaanDee08215437'), (datetime.date(2021, 2, 17), 'RaaJVinderkaur'), (datetime.date(2021, 2, 16), 'jot__b'), (datetime.date(2021, 2, 14), 'rebelpacifist'), (datetime.date(2021, 2, 18), 'neetuanjle_nitu'), (datetime.date(2021, 2, 15), 'jot__b'), (datetime.date(2021, 2, 20), 'MangalJ23056160'), (datetime.date(2021, 2, 23), 'Surrypuria'), (datetime.date(2021, 2, 19), 'Preetm91')]\n"
     ]
    }
   ],
   "source": [
    "from q1_memory import q1_memory\n",
    "\n",
    "start_time = time()\n",
    "result = q1_memory(file_path=file_path)\n",
    "print(f\"Tiempo de Ejecucion: {time() - start_time} \")\n",
    "print(\"Resultados Obtenidos: \")\n",
    "print(result)"
   ]
  },
  {
   "cell_type": "markdown",
   "metadata": {},
   "source": [
    "### Problema 2: Top 10 emojis más usados con su conteo correspondiente\n",
    "### 1. Optimización de tiempo de ejecución\n",
    "Para abordar este problema se empleó la librería emoji previamente instalada en el primer bloque de este notebook el cual permite extraer emojis de cadenas de texto. \n",
    "Utilizando esta librería, se agrupó el contenido de todos los tweets en un único string para analizarlo y obtener todos los emojis. Este enfoque resultó ser más lento que el procesamiento de optimización de uso de memoria, posiblemente debido al tamaño del archivo .json.\n",
    "\n",
    "Optimización Adicional:\n",
    "\n",
    "Para optimizar el tiempo de ejecución, se pueden implementar estrategias como procesar el archivo en lotes para reducir la carga en cada operación y aplicar multiprocesamiento para ejecutar análisis en paralelo."
   ]
  },
  {
   "cell_type": "code",
   "execution_count": 23,
   "metadata": {},
   "outputs": [
    {
     "name": "stdout",
     "output_type": "stream",
     "text": [
      "Tiempo de Ejecucion: 17.018301010131836 \n",
      "Resultados Obtenidos: \n",
      "[('🙏', 5049), ('😂', 3072), ('🚜', 2972), ('🌾', 2182), ('🇮🇳', 2086), ('🤣', 1668), ('✊', 1651), ('❤️', 1382), ('🙏🏻', 1317), ('💚', 1040)]\n"
     ]
    }
   ],
   "source": [
    "from q2_time import q2_time\n",
    "\n",
    "start_time = time()\n",
    "result = q2_time(file_path=file_path)\n",
    "print(f\"Tiempo de Ejecucion: {time() - start_time} \")\n",
    "print(\"Resultados Obtenidos: \")\n",
    "print(result)"
   ]
  },
  {
   "cell_type": "markdown",
   "metadata": {},
   "source": [
    "### 2. Optimización de memoria en uso\n",
    "\n",
    "Para esta sección se utilizó la misma lógica de la optimización de tiempo de ejecución, procesando el archivo en forma secuencial, analizando cada línea individualmente."
   ]
  },
  {
   "cell_type": "code",
   "execution_count": 24,
   "metadata": {},
   "outputs": [
    {
     "name": "stdout",
     "output_type": "stream",
     "text": [
      "Tiempo de Ejecucion: 17.377023935317993 \n",
      "Resultados Obtenidos: \n",
      "[('🙏', 5049), ('😂', 3072), ('🚜', 2972), ('🌾', 2182), ('🇮🇳', 2086), ('🤣', 1668), ('✊', 1651), ('❤️', 1382), ('🙏🏻', 1317), ('💚', 1040)]\n"
     ]
    }
   ],
   "source": [
    "from q2_memory import q2_memory\n",
    "\n",
    "start_time = time()\n",
    "result = q2_memory(file_path=file_path)\n",
    "print(f\"Tiempo de Ejecucion: {time() - start_time} \")\n",
    "print(\"Resultados Obtenidos: \")\n",
    "print(result)"
   ]
  },
  {
   "cell_type": "markdown",
   "metadata": {},
   "source": [
    "### Problema 3: Top 10 usuarios más influyentes según el conteo de menciones (@)\n",
    "### 1. Optimización de tiempo de ejecución\n",
    "Para este problema se va implementar una función que cuenta los usernames mencionados en el archivo JSON de tweets. Utilizando la clase Counter de la biblioteca collections, se lee el archivo línea por línea para extraer la lista de usuarios dentro de mentionedUsers.\n",
    "\n",
    "Optimización Adicional:\n",
    "\n",
    "Utilizar formatos como CSV o Parquet podría mejorar el rendimiento, ya que son más eficientes en términos de lectura y procesamiento"
   ]
  },
  {
   "cell_type": "code",
   "execution_count": 25,
   "metadata": {},
   "outputs": [
    {
     "name": "stdout",
     "output_type": "stream",
     "text": [
      "Tiempo de Ejecucion: 5.206971168518066 \n",
      "Resultados Obtenidos: \n",
      "[('narendramodi', 2265), ('Kisanektamorcha', 1840), ('RakeshTikaitBKU', 1644), ('PMOIndia', 1427), ('RahulGandhi', 1146), ('GretaThunberg', 1048), ('RaviSinghKA', 1019), ('rihanna', 986), ('UNHumanRights', 962), ('meenaharris', 926)]\n"
     ]
    }
   ],
   "source": [
    "from q3_time import q3_time\n",
    "\n",
    "start_time = time()\n",
    "result = q3_time(file_path=file_path)\n",
    "print(f\"Tiempo de Ejecucion: {time() - start_time} \")\n",
    "print(\"Resultados Obtenidos: \")\n",
    "print(result)"
   ]
  },
  {
   "cell_type": "markdown",
   "metadata": {},
   "source": [
    "### 2. Optimización de memoria en uso\n",
    "\n",
    "Para esta sección se utilizó la misma lógica de la optimización de tiempo de ejecución, procesando el archivo en forma secuencial, línea por línea."
   ]
  },
  {
   "cell_type": "code",
   "execution_count": 26,
   "metadata": {},
   "outputs": [
    {
     "name": "stdout",
     "output_type": "stream",
     "text": [
      "-- TIEMPO DE EJECUCION: 5.28658390045166 \n",
      "RESULTADO: \n",
      "[('narendramodi', 2265), ('Kisanektamorcha', 1840), ('RakeshTikaitBKU', 1644), ('PMOIndia', 1427), ('RahulGandhi', 1146), ('GretaThunberg', 1048), ('RaviSinghKA', 1019), ('rihanna', 986), ('UNHumanRights', 962), ('meenaharris', 926)]\n"
     ]
    }
   ],
   "source": [
    "from q3_memory import q3_memory\n",
    "\n",
    "start_time = time()\n",
    "result = q3_memory(file_path=file_path)\n",
    "print(f\"-- TIEMPO DE EJECUCION: {time() - start_time} \")\n",
    "print(\"RESULTADO: \")\n",
    "print(result)"
   ]
  },
  {
   "cell_type": "markdown",
   "metadata": {},
   "source": [
    "### Comentario Final\n",
    "\n",
    "Para optimizar el análisis de datos para estos problemas desde la perspectiva de Cloud, específicamente utilizando Azure, se podría utilizar Azure Data Lake Storage para almacenar los archivos de tweets, facilitando el acceso eficiente a grandes volúmenes de datos. Azure Data Factory podría emplearse para orquestar el flujo de datos, permitiendo la extracción, transformación y carga (ETL) de los datos desde diferentes fuentes. Además, implementar Azure Functions permitiría ejecutar el procesamiento en paralelo y en respuesta a eventos, mejorando la escalabilidad. También considerar el uso de Azure Databricks sería útil para realizar análisis en lote utilizando Apache Spark, aprovechando el procesamiento distribuido."
   ]
  }
 ],
 "metadata": {
  "kernelspec": {
   "display_name": "Python 3",
   "language": "python",
   "name": "python3"
  },
  "language_info": {
   "codemirror_mode": {
    "name": "ipython",
    "version": 3
   },
   "file_extension": ".py",
   "mimetype": "text/x-python",
   "name": "python",
   "nbconvert_exporter": "python",
   "pygments_lexer": "ipython3",
   "version": "3.12.4"
  },
  "orig_nbformat": 4
 },
 "nbformat": 4,
 "nbformat_minor": 2
}
